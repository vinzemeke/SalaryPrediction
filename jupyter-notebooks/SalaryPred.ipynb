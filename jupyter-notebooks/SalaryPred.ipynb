{
 "cells": [
  {
   "cell_type": "code",
   "execution_count": 54,
   "metadata": {},
   "outputs": [],
   "source": [
    "import pandas as pd\n",
    "import numpy as np\n",
    "import matplotlib.pyplot as plt\n",
    "\n",
    "\n",
    "#machine learning bit starts from here:\n",
    "from sklearn.preprocessing import StandardScaler\n",
    "from sklearn.model_selection import train_test_split\n",
    "from sklearn.preprocessing import OneHotEncoder\n",
    "from sklearn.compose import make_column_transformer\n",
    "from sklearn.compose import ColumnTransformer\n",
    "from sklearn.pipeline import make_pipeline\n",
    "from sklearn.pipeline import Pipeline\n",
    "\n",
    "\n",
    "#building the model and crossvalidation pipeline:\n",
    "from sklearn.model_selection import GridSearchCV\n",
    "from sklearn.model_selection import cross_val_score\n",
    "from sklearn import metrics\n",
    "from sklearn.svm import SVR\n",
    "\n",
    "#MOdel persistence:\n",
    "import pickle\n",
    "\n",
    "#Statsmodels\n"
   ]
  },
  {
   "cell_type": "code",
   "execution_count": 55,
   "metadata": {},
   "outputs": [],
   "source": [
    "#import dataset\n",
    "df = pd.read_csv('survey_results_public.csv')"
   ]
  },
  {
   "cell_type": "code",
   "execution_count": 56,
   "metadata": {},
   "outputs": [
    {
     "name": "stdout",
     "output_type": "stream",
     "text": [
      "Index(['ResponseId', 'MainBranch', 'Employment', 'Country', 'US_State',\n",
      "       'UK_Country', 'EdLevel', 'Age1stCode', 'LearnCode', 'YearsCode',\n",
      "       'YearsCodePro', 'DevType', 'OrgSize', 'Currency', 'CompTotal',\n",
      "       'CompFreq', 'LanguageHaveWorkedWith', 'LanguageWantToWorkWith',\n",
      "       'DatabaseHaveWorkedWith', 'DatabaseWantToWorkWith',\n",
      "       'PlatformHaveWorkedWith', 'PlatformWantToWorkWith',\n",
      "       'WebframeHaveWorkedWith', 'WebframeWantToWorkWith',\n",
      "       'MiscTechHaveWorkedWith', 'MiscTechWantToWorkWith',\n",
      "       'ToolsTechHaveWorkedWith', 'ToolsTechWantToWorkWith',\n",
      "       'NEWCollabToolsHaveWorkedWith', 'NEWCollabToolsWantToWorkWith', 'OpSys',\n",
      "       'NEWStuck', 'NEWSOSites', 'SOVisitFreq', 'SOAccount', 'SOPartFreq',\n",
      "       'SOComm', 'NEWOtherComms', 'Age', 'Gender', 'Trans', 'Sexuality',\n",
      "       'Ethnicity', 'Accessibility', 'MentalHealth', 'SurveyLength',\n",
      "       'SurveyEase', 'ConvertedCompYearly'],\n",
      "      dtype='object')\n"
     ]
    }
   ],
   "source": [
    "#quick look at the available columns\n",
    "print(df.columns)"
   ]
  },
  {
   "cell_type": "code",
   "execution_count": 57,
   "metadata": {},
   "outputs": [],
   "source": [
    "#select some colums for use in the analyis:\n",
    "df = df[['Country', \"EdLevel\", 'YearsCodePro','Employment', 'ConvertedCompYearly']]\n",
    "df = df.rename({\"ConvertedCompYearly\":\"Salary\"}, axis = 1)\n"
   ]
  },
  {
   "cell_type": "code",
   "execution_count": 58,
   "metadata": {},
   "outputs": [
    {
     "data": {
      "text/html": [
       "<div>\n",
       "<style scoped>\n",
       "    .dataframe tbody tr th:only-of-type {\n",
       "        vertical-align: middle;\n",
       "    }\n",
       "\n",
       "    .dataframe tbody tr th {\n",
       "        vertical-align: top;\n",
       "    }\n",
       "\n",
       "    .dataframe thead th {\n",
       "        text-align: right;\n",
       "    }\n",
       "</style>\n",
       "<table border=\"1\" class=\"dataframe\">\n",
       "  <thead>\n",
       "    <tr style=\"text-align: right;\">\n",
       "      <th></th>\n",
       "      <th>Country</th>\n",
       "      <th>EdLevel</th>\n",
       "      <th>YearsCodePro</th>\n",
       "      <th>Employment</th>\n",
       "      <th>Salary</th>\n",
       "    </tr>\n",
       "  </thead>\n",
       "  <tbody>\n",
       "    <tr>\n",
       "      <th>0</th>\n",
       "      <td>Slovakia</td>\n",
       "      <td>Secondary school (e.g. American high school, G...</td>\n",
       "      <td>NaN</td>\n",
       "      <td>Independent contractor, freelancer, or self-em...</td>\n",
       "      <td>62268.0</td>\n",
       "    </tr>\n",
       "    <tr>\n",
       "      <th>1</th>\n",
       "      <td>Netherlands</td>\n",
       "      <td>Bachelor’s degree (B.A., B.S., B.Eng., etc.)</td>\n",
       "      <td>NaN</td>\n",
       "      <td>Student, full-time</td>\n",
       "      <td>NaN</td>\n",
       "    </tr>\n",
       "    <tr>\n",
       "      <th>2</th>\n",
       "      <td>Russian Federation</td>\n",
       "      <td>Bachelor’s degree (B.A., B.S., B.Eng., etc.)</td>\n",
       "      <td>NaN</td>\n",
       "      <td>Student, full-time</td>\n",
       "      <td>NaN</td>\n",
       "    </tr>\n",
       "    <tr>\n",
       "      <th>3</th>\n",
       "      <td>Austria</td>\n",
       "      <td>Master’s degree (M.A., M.S., M.Eng., MBA, etc.)</td>\n",
       "      <td>NaN</td>\n",
       "      <td>Employed full-time</td>\n",
       "      <td>NaN</td>\n",
       "    </tr>\n",
       "    <tr>\n",
       "      <th>4</th>\n",
       "      <td>United Kingdom of Great Britain and Northern I...</td>\n",
       "      <td>Master’s degree (M.A., M.S., M.Eng., MBA, etc.)</td>\n",
       "      <td>10</td>\n",
       "      <td>Independent contractor, freelancer, or self-em...</td>\n",
       "      <td>NaN</td>\n",
       "    </tr>\n",
       "  </tbody>\n",
       "</table>\n",
       "</div>"
      ],
      "text/plain": [
       "                                             Country  \\\n",
       "0                                           Slovakia   \n",
       "1                                        Netherlands   \n",
       "2                                 Russian Federation   \n",
       "3                                            Austria   \n",
       "4  United Kingdom of Great Britain and Northern I...   \n",
       "\n",
       "                                             EdLevel YearsCodePro  \\\n",
       "0  Secondary school (e.g. American high school, G...          NaN   \n",
       "1       Bachelor’s degree (B.A., B.S., B.Eng., etc.)          NaN   \n",
       "2       Bachelor’s degree (B.A., B.S., B.Eng., etc.)          NaN   \n",
       "3    Master’s degree (M.A., M.S., M.Eng., MBA, etc.)          NaN   \n",
       "4    Master’s degree (M.A., M.S., M.Eng., MBA, etc.)           10   \n",
       "\n",
       "                                          Employment   Salary  \n",
       "0  Independent contractor, freelancer, or self-em...  62268.0  \n",
       "1                                 Student, full-time      NaN  \n",
       "2                                 Student, full-time      NaN  \n",
       "3                                 Employed full-time      NaN  \n",
       "4  Independent contractor, freelancer, or self-em...      NaN  "
      ]
     },
     "execution_count": 58,
     "metadata": {},
     "output_type": "execute_result"
    }
   ],
   "source": [
    "df.head()"
   ]
  },
  {
   "cell_type": "code",
   "execution_count": 59,
   "metadata": {},
   "outputs": [
    {
     "data": {
      "text/html": [
       "<div>\n",
       "<style scoped>\n",
       "    .dataframe tbody tr th:only-of-type {\n",
       "        vertical-align: middle;\n",
       "    }\n",
       "\n",
       "    .dataframe tbody tr th {\n",
       "        vertical-align: top;\n",
       "    }\n",
       "\n",
       "    .dataframe thead th {\n",
       "        text-align: right;\n",
       "    }\n",
       "</style>\n",
       "<table border=\"1\" class=\"dataframe\">\n",
       "  <thead>\n",
       "    <tr style=\"text-align: right;\">\n",
       "      <th></th>\n",
       "      <th>Country</th>\n",
       "      <th>EdLevel</th>\n",
       "      <th>YearsCodePro</th>\n",
       "      <th>Employment</th>\n",
       "      <th>Salary</th>\n",
       "    </tr>\n",
       "  </thead>\n",
       "  <tbody>\n",
       "    <tr>\n",
       "      <th>9</th>\n",
       "      <td>Sweden</td>\n",
       "      <td>Master’s degree (M.A., M.S., M.Eng., MBA, etc.)</td>\n",
       "      <td>4</td>\n",
       "      <td>Employed full-time</td>\n",
       "      <td>51552.0</td>\n",
       "    </tr>\n",
       "    <tr>\n",
       "      <th>11</th>\n",
       "      <td>Spain</td>\n",
       "      <td>Bachelor’s degree (B.A., B.S., B.Eng., etc.)</td>\n",
       "      <td>5</td>\n",
       "      <td>Employed full-time</td>\n",
       "      <td>46482.0</td>\n",
       "    </tr>\n",
       "    <tr>\n",
       "      <th>12</th>\n",
       "      <td>Germany</td>\n",
       "      <td>Master’s degree (M.A., M.S., M.Eng., MBA, etc.)</td>\n",
       "      <td>6</td>\n",
       "      <td>Employed full-time</td>\n",
       "      <td>77290.0</td>\n",
       "    </tr>\n",
       "    <tr>\n",
       "      <th>16</th>\n",
       "      <td>Turkey</td>\n",
       "      <td>Bachelor’s degree (B.A., B.S., B.Eng., etc.)</td>\n",
       "      <td>2</td>\n",
       "      <td>Employed full-time</td>\n",
       "      <td>17748.0</td>\n",
       "    </tr>\n",
       "    <tr>\n",
       "      <th>17</th>\n",
       "      <td>Canada</td>\n",
       "      <td>Bachelor’s degree (B.A., B.S., B.Eng., etc.)</td>\n",
       "      <td>6</td>\n",
       "      <td>Employed full-time</td>\n",
       "      <td>46135.0</td>\n",
       "    </tr>\n",
       "  </tbody>\n",
       "</table>\n",
       "</div>"
      ],
      "text/plain": [
       "    Country                                          EdLevel YearsCodePro  \\\n",
       "9    Sweden  Master’s degree (M.A., M.S., M.Eng., MBA, etc.)            4   \n",
       "11    Spain     Bachelor’s degree (B.A., B.S., B.Eng., etc.)            5   \n",
       "12  Germany  Master’s degree (M.A., M.S., M.Eng., MBA, etc.)            6   \n",
       "16   Turkey     Bachelor’s degree (B.A., B.S., B.Eng., etc.)            2   \n",
       "17   Canada     Bachelor’s degree (B.A., B.S., B.Eng., etc.)            6   \n",
       "\n",
       "            Employment   Salary  \n",
       "9   Employed full-time  51552.0  \n",
       "11  Employed full-time  46482.0  \n",
       "12  Employed full-time  77290.0  \n",
       "16  Employed full-time  17748.0  \n",
       "17  Employed full-time  46135.0  "
      ]
     },
     "execution_count": 59,
     "metadata": {},
     "output_type": "execute_result"
    }
   ],
   "source": [
    "#remove the null values columns:\n",
    "df = df[df.Salary.notnull()]\n",
    "df = df[df.YearsCodePro.notnull()]\n",
    "df =df.dropna()\n",
    "df.head()"
   ]
  },
  {
   "cell_type": "code",
   "execution_count": 60,
   "metadata": {},
   "outputs": [],
   "source": [
    "#restrict analysis to only fully employed respondents:\n",
    "df = df[df['Employment'] == \"Employed full-time\"]\n",
    "#df.info()"
   ]
  },
  {
   "cell_type": "code",
   "execution_count": 61,
   "metadata": {},
   "outputs": [
    {
     "data": {
      "text/plain": [
       "9      Sweden\n",
       "11      Spain\n",
       "12    Germany\n",
       "16     Turkey\n",
       "17     Canada\n",
       "Name: Country, dtype: object"
      ]
     },
     "execution_count": 61,
     "metadata": {},
     "output_type": "execute_result"
    }
   ],
   "source": [
    "df['Country'].value_counts()\n",
    "\n",
    "#reduce the length of some country names:\n",
    "df.loc[df.Country =='United Kingdom of Great Britain and Northern Ireland', \"Country\"] = \"United Kingdom\"\n",
    "df.loc[df.Country =='Russian Federation', \"Country\"] = \"Russia\"\n",
    "\n",
    "df.Country.head()"
   ]
  },
  {
   "cell_type": "code",
   "execution_count": 62,
   "metadata": {},
   "outputs": [],
   "source": [
    "#Because we have several countries with a single data point, I will lump those countries together under 'Other\n",
    "\n",
    "#writing a function to shorten the cateegories:\n",
    "\n",
    "def shorten_categories(categories, cutoff):\n",
    "    categorical_map = {}\n",
    "    for i in range(len(categories)):\n",
    "        if categories.values[i]>=cutoff:\n",
    "            categorical_map[categories.index[i]] = categories.index[i]\n",
    "        else:\n",
    "            categorical_map[categories.index[i]] = 'Other'\n",
    "    return categorical_map\n",
    "        "
   ]
  },
  {
   "cell_type": "code",
   "execution_count": 63,
   "metadata": {},
   "outputs": [
    {
     "data": {
      "text/plain": [
       "Other                       10725\n",
       "United States of America     9175\n",
       "India                        3385\n",
       "Germany                      2753\n",
       "United Kingdom               2604\n",
       "Canada                       1553\n",
       "France                       1396\n",
       "Brazil                       1340\n",
       "Spain                         890\n",
       "Netherlands                   835\n",
       "Australia                     825\n",
       "Poland                        775\n",
       "Italy                         756\n",
       "Russia                        741\n",
       "Sweden                        735\n",
       "Turkey                        458\n",
       "Switzerland                   438\n",
       "Israel                        425\n",
       "Norway                        402\n",
       "Name: Country, dtype: int64"
      ]
     },
     "execution_count": 63,
     "metadata": {},
     "output_type": "execute_result"
    }
   ],
   "source": [
    "country_map = shorten_categories(df.Country.value_counts(), 400)\n",
    "df.Country = df[\"Country\"].map(country_map)\n",
    "df['Country'].value_counts()"
   ]
  },
  {
   "cell_type": "code",
   "execution_count": 64,
   "metadata": {},
   "outputs": [
    {
     "data": {
      "text/plain": [
       "Text(0.5, 0.98, 'Salary (US) vs. Country')"
      ]
     },
     "execution_count": 64,
     "metadata": {},
     "output_type": "execute_result"
    },
    {
     "data": {
      "image/png": "[encoded data removed]",
      "text/plain": [
       "<Figure size 864x504 with 1 Axes>"
      ]
     },
     "metadata": {
      "needs_background": "light"
     },
     "output_type": "display_data"
    }
   ],
   "source": [
    "fig, ax = plt.subplots(1,1, figsize = (12,7))\n",
    "df.boxplot('Salary', 'Country', ax = ax)\n",
    "plt.suptitle(\"Salary (US) vs. Country\")\n",
    "#plt.xticks(rotation = 90)"
   ]
  },
  {
   "cell_type": "code",
   "execution_count": 65,
   "metadata": {},
   "outputs": [
    {
     "data": {
      "text/plain": [
       "(array([ 1,  2,  3,  4,  5,  6,  7,  8,  9, 10, 11, 12, 13, 14, 15, 16, 17,\n",
       "        18, 19]),\n",
       " [Text(1, 0, 'Australia'),\n",
       "  Text(2, 0, 'Brazil'),\n",
       "  Text(3, 0, 'Canada'),\n",
       "  Text(4, 0, 'France'),\n",
       "  Text(5, 0, 'Germany'),\n",
       "  Text(6, 0, 'India'),\n",
       "  Text(7, 0, 'Israel'),\n",
       "  Text(8, 0, 'Italy'),\n",
       "  Text(9, 0, 'Netherlands'),\n",
       "  Text(10, 0, 'Norway'),\n",
       "  Text(11, 0, 'Other'),\n",
       "  Text(12, 0, 'Poland'),\n",
       "  Text(13, 0, 'Russia'),\n",
       "  Text(14, 0, 'Spain'),\n",
       "  Text(15, 0, 'Sweden'),\n",
       "  Text(16, 0, 'Switzerland'),\n",
       "  Text(17, 0, 'Turkey'),\n",
       "  Text(18, 0, 'United Kingdom'),\n",
       "  Text(19, 0, 'United States of America')])"
      ]
     },
     "execution_count": 65,
     "metadata": {},
     "output_type": "execute_result"
    },
    {
     "data": {
      "image/png": "[encoded data removed]",
      "text/plain": [
       "<Figure size 864x504 with 1 Axes>"
      ]
     },
     "metadata": {
      "needs_background": "light"
     },
     "output_type": "display_data"
    }
   ],
   "source": [
    "#Therefore attempt to cut off the salary at the 1m mark and get the boxplot again:\n",
    "\n",
    "df = df[(df.Salary <= 250000) & (df.Salary>=10000)]\n",
    "fig, ax = plt.subplots(1,1, figsize = (12,7))\n",
    "df.boxplot('Salary', 'Country', ax = ax)\n",
    "plt.suptitle(\"Salary (US) vs. Country\")\n",
    "plt.xticks(rotation = 90 )\n",
    "\n"
   ]
  },
  {
   "cell_type": "code",
   "execution_count": 66,
   "metadata": {},
   "outputs": [],
   "source": [
    "df3 = df\n",
    "\n",
    "def remove_outliers_per_Country(name, value, df2):\n",
    "    df2 = df2.drop(df[(df.Country == name) & (df2.Salary >=value)].index)\n",
    "    return(df2)"
   ]
  },
  {
   "cell_type": "code",
   "execution_count": 67,
   "metadata": {},
   "outputs": [],
   "source": [
    "df =  remove_outliers_per_Country('Australia', 160000, df )\n",
    "\n",
    "df =  remove_outliers_per_Country('Brazil', 70000, df )\n",
    "\n",
    "df =  remove_outliers_per_Country('Canada', 150000, df )\n",
    "\n",
    "df =  remove_outliers_per_Country('France', 90000, df )\n",
    "\n",
    "df =  remove_outliers_per_Country('Germany', 125000, df )\n",
    "\n",
    "df =  remove_outliers_per_Country('India', 60000, df )\n",
    "\n",
    "df =  remove_outliers_per_Country('Israel', 225000, df )\n",
    "\n",
    "df =  remove_outliers_per_Country('Italy', 75000, df )\n",
    "\n",
    "df =  remove_outliers_per_Country('Netherlands', 125000, df )\n",
    "\n",
    "df =  remove_outliers_per_Country('Norway', 140000, df )\n",
    "\n",
    "df =  remove_outliers_per_Country('Other', 110000, df )\n",
    "\n",
    "df =  remove_outliers_per_Country('Poland', 80000, df )\n",
    "\n",
    "df =  remove_outliers_per_Country('Russia', 90000, df )\n",
    "\n",
    "df =  remove_outliers_per_Country('Spain', 90000, df )\n",
    "\n",
    "df =  remove_outliers_per_Country('Sweden', 95000, df )\n",
    "\n",
    "df =  remove_outliers_per_Country('Switzerland', 130000, df )\n",
    "\n",
    "df =  remove_outliers_per_Country('Turkey', 60000, df )\n",
    "\n",
    "df =  remove_outliers_per_Country('United Kingdom', 155000, df )\n",
    "\n",
    "df =  remove_outliers_per_Country('United States of America', 260000, df )\n",
    "\n"
   ]
  },
  {
   "cell_type": "code",
   "execution_count": 68,
   "metadata": {},
   "outputs": [
    {
     "data": {
      "text/plain": [
       "(array([ 1,  2,  3,  4,  5,  6,  7,  8,  9, 10, 11, 12, 13, 14, 15, 16, 17,\n",
       "        18, 19]),\n",
       " [Text(1, 0, 'Australia'),\n",
       "  Text(2, 0, 'Brazil'),\n",
       "  Text(3, 0, 'Canada'),\n",
       "  Text(4, 0, 'France'),\n",
       "  Text(5, 0, 'Germany'),\n",
       "  Text(6, 0, 'India'),\n",
       "  Text(7, 0, 'Israel'),\n",
       "  Text(8, 0, 'Italy'),\n",
       "  Text(9, 0, 'Netherlands'),\n",
       "  Text(10, 0, 'Norway'),\n",
       "  Text(11, 0, 'Other'),\n",
       "  Text(12, 0, 'Poland'),\n",
       "  Text(13, 0, 'Russia'),\n",
       "  Text(14, 0, 'Spain'),\n",
       "  Text(15, 0, 'Sweden'),\n",
       "  Text(16, 0, 'Switzerland'),\n",
       "  Text(17, 0, 'Turkey'),\n",
       "  Text(18, 0, 'United Kingdom'),\n",
       "  Text(19, 0, 'United States of America')])"
      ]
     },
     "execution_count": 68,
     "metadata": {},
     "output_type": "execute_result"
    },
    {
     "data": {
      "image/png": "[encoded data removed]",
      "text/plain": [
       "<Figure size 864x504 with 1 Axes>"
      ]
     },
     "metadata": {
      "needs_background": "light"
     },
     "output_type": "display_data"
    }
   ],
   "source": [
    "#Therefore attempt to cut off the salary at the 1m mark and get the boxplot again:\n",
    "\n",
    "df = df[(df.Salary <= 250000) & (df.Salary>=10000)]\n",
    "fig, ax = plt.subplots(1,1, figsize = (12,7))\n",
    "df.boxplot('Salary', 'Country', ax = ax)\n",
    "plt.suptitle(\"Salary (US) vs. Country\")\n",
    "plt.xticks(rotation = 90 )"
   ]
  },
  {
   "cell_type": "code",
   "execution_count": 69,
   "metadata": {},
   "outputs": [
    {
     "data": {
      "text/plain": [
       "array(['4', '5', '6', '2', '18', '21', '16', '10', 'Less than 1 year',\n",
       "       '3', '15', '1', '12', '8', '17', '14', '34', '11', '25', '24', '7',\n",
       "       '22', '13', '9', '20', '26', '23', '39', '27', '30', '19', '35',\n",
       "       '33', '37', '43', '40', '29', '38', '31', '42', '28', '46', '32',\n",
       "       '36', '47', '45', '44', '41', 'More than 50 years', '50', '49',\n",
       "       '48'], dtype=object)"
      ]
     },
     "execution_count": 69,
     "metadata": {},
     "output_type": "execute_result"
    }
   ],
   "source": [
    "#clean the yearsCodePro column\n",
    "\n",
    "df.YearsCodePro.unique()"
   ]
  },
  {
   "cell_type": "code",
   "execution_count": 70,
   "metadata": {},
   "outputs": [],
   "source": [
    "\n",
    "def clean_years(x):\n",
    "    if x == \"More than 50 years\":\n",
    "        return 50\n",
    "    if x == \"Less than 1 year\":\n",
    "        return 0.5\n",
    "    return float(x)\n",
    "\n",
    "df.YearsCodePro = df.YearsCodePro.apply(clean_years)"
   ]
  },
  {
   "cell_type": "code",
   "execution_count": 71,
   "metadata": {},
   "outputs": [
    {
     "data": {
      "text/plain": [
       "array(['Master’s degree (M.A., M.S., M.Eng., MBA, etc.)',\n",
       "       'Bachelor’s degree (B.A., B.S., B.Eng., etc.)',\n",
       "       'Some college/university study without earning a degree',\n",
       "       'Professional degree (JD, MD, etc.)', 'Something else',\n",
       "       'Other doctoral degree (Ph.D., Ed.D., etc.)',\n",
       "       'Primary/elementary school', 'Associate degree (A.A., A.S., etc.)',\n",
       "       'Secondary school (e.g. American high school, German Realschule or Gymnasium, etc.)'],\n",
       "      dtype=object)"
      ]
     },
     "execution_count": 71,
     "metadata": {},
     "output_type": "execute_result"
    }
   ],
   "source": [
    "#clean the education level:\n",
    "df.EdLevel.unique()"
   ]
  },
  {
   "cell_type": "code",
   "execution_count": 72,
   "metadata": {},
   "outputs": [
    {
     "data": {
      "text/plain": [
       "array(['No bachelors', 'Bachelors', 'Post-grad'], dtype=object)"
      ]
     },
     "execution_count": 72,
     "metadata": {},
     "output_type": "execute_result"
    }
   ],
   "source": [
    "def clean_education(x):\n",
    "    if \"Bachelor’s degree\" in x:\n",
    "        return \"Bachelors\"\n",
    "    if \"professional degree\" in x or 'doctoral degree' in x:\n",
    "        return \"Post-grad\"\n",
    "    return \"No bachelors\"\n",
    "\n",
    "df.EdLevel = df.EdLevel.apply(clean_education)\n",
    "df.EdLevel.unique()"
   ]
  },
  {
   "cell_type": "code",
   "execution_count": 73,
   "metadata": {},
   "outputs": [],
   "source": [
    "df = df.drop(\"Employment\", axis = 1)"
   ]
  },
  {
   "cell_type": "code",
   "execution_count": 74,
   "metadata": {},
   "outputs": [],
   "source": [
    "df.reset_index(inplace = True, drop = True)\n",
    "#df.to_csv(\"Cleandata.csv\")\n",
    "\n",
    "#save the cleandata to pickle file\n",
    "pd.to_pickle(df, \"./cleandata.pkl\")"
   ]
  },
  {
   "cell_type": "code",
   "execution_count": 75,
   "metadata": {},
   "outputs": [],
   "source": [
    "X = df.drop(\"Salary\", axis = 1)\n",
    "y = df[\"Salary\"]\n",
    "\n",
    "#split the data into 80/20 train test\n",
    "\n",
    "X_train, X_test, y_train, y_test = train_test_split(X, y, test_size=0.1, random_state=2022)"
   ]
  },
  {
   "cell_type": "code",
   "execution_count": 76,
   "metadata": {},
   "outputs": [
    {
     "name": "stdout",
     "output_type": "stream",
     "text": [
      "(30423, 3)\n",
      "(30423,)\n",
      "(3381, 3)\n",
      "(3381,)\n"
     ]
    }
   ],
   "source": [
    "print(X_train.shape)\n",
    "print(y_train.shape)\n",
    "print(X_test.shape)\n",
    "print(y_test.shape)"
   ]
  },
  {
   "cell_type": "code",
   "execution_count": 77,
   "metadata": {},
   "outputs": [
    {
     "name": "stdout",
     "output_type": "stream",
     "text": [
      "(30423, 1)\n",
      "(3381, 1)\n"
     ]
    }
   ],
   "source": [
    "y_train = np.asarray(y_train).reshape(-1,1)\n",
    "y_test = np.asarray(y_test).reshape(-1,1)\n",
    "\n",
    "print(y_train.shape)\n",
    "print(y_test.shape)"
   ]
  },
  {
   "cell_type": "code",
   "execution_count": 78,
   "metadata": {},
   "outputs": [],
   "source": [
    "#one-hot encode the categorical variables:\n",
    "\n",
    "ohe = OneHotEncoder(handle_unknown = 'ignore')\n",
    "scaler = StandardScaler()\n",
    "modelsvr = SVR()\n"
   ]
  },
  {
   "cell_type": "code",
   "execution_count": 79,
   "metadata": {},
   "outputs": [],
   "source": [
    "\n",
    "ohe.fit(X_train)\n",
    "column_trans = make_column_transformer((ohe,[\"Country\", \"EdLevel\"]), remainder= 'passthrough')"
   ]
  },
  {
   "cell_type": "code",
   "execution_count": 80,
   "metadata": {},
   "outputs": [],
   "source": [
    "X_train_tester = X_train\n",
    "X_train = pd.DataFrame(column_trans.fit_transform(X_train).toarray())\n",
    "X_test = pd.DataFrame(column_trans.fit_transform(X_test).toarray())\n",
    "y_train_scaled = scaler.fit_transform(y_train)\n",
    "\n",
    "\n",
    "#convert Y_trained scale into dimension that gridsearch works with:\n",
    "y_train_scaled = np.ravel(y_train_scaled)\n"
   ]
  },
  {
   "cell_type": "code",
   "execution_count": 81,
   "metadata": {},
   "outputs": [
    {
     "name": "stdout",
     "output_type": "stream",
     "text": [
      "        0    1    2    3    4    5    6    7    8    9   ...   13   14   15  \\\n",
      "0      0.0  0.0  0.0  0.0  0.0  0.0  0.0  0.0  0.0  0.0  ...  0.0  0.0  0.0   \n",
      "1      0.0  0.0  0.0  0.0  0.0  0.0  0.0  1.0  0.0  0.0  ...  0.0  0.0  0.0   \n",
      "2      0.0  0.0  0.0  0.0  0.0  0.0  0.0  0.0  0.0  0.0  ...  0.0  0.0  0.0   \n",
      "3      0.0  0.0  0.0  0.0  0.0  0.0  0.0  0.0  0.0  0.0  ...  0.0  0.0  0.0   \n",
      "4      0.0  0.0  0.0  0.0  0.0  0.0  0.0  0.0  0.0  0.0  ...  0.0  0.0  0.0   \n",
      "...    ...  ...  ...  ...  ...  ...  ...  ...  ...  ...  ...  ...  ...  ...   \n",
      "30418  0.0  0.0  0.0  0.0  0.0  0.0  0.0  0.0  0.0  0.0  ...  0.0  0.0  0.0   \n",
      "30419  0.0  0.0  0.0  0.0  0.0  0.0  0.0  0.0  1.0  0.0  ...  0.0  0.0  0.0   \n",
      "30420  0.0  0.0  0.0  0.0  1.0  0.0  0.0  0.0  0.0  0.0  ...  0.0  0.0  0.0   \n",
      "30421  0.0  0.0  0.0  0.0  0.0  0.0  0.0  0.0  0.0  0.0  ...  0.0  0.0  0.0   \n",
      "30422  0.0  0.0  0.0  0.0  0.0  0.0  0.0  0.0  0.0  0.0  ...  0.0  0.0  0.0   \n",
      "\n",
      "        16   17   18   19   20   21    22  \n",
      "0      0.0  0.0  0.0  0.0  1.0  0.0  10.0  \n",
      "1      0.0  0.0  0.0  1.0  0.0  0.0   8.0  \n",
      "2      0.0  0.0  0.0  0.0  1.0  0.0  22.0  \n",
      "3      0.0  0.0  0.0  0.0  1.0  0.0  12.0  \n",
      "4      0.0  1.0  0.0  0.0  1.0  0.0  10.0  \n",
      "...    ...  ...  ...  ...  ...  ...   ...  \n",
      "30418  1.0  0.0  0.0  1.0  0.0  0.0   6.0  \n",
      "30419  0.0  0.0  0.0  1.0  0.0  0.0   2.0  \n",
      "30420  0.0  0.0  0.0  0.0  1.0  0.0  15.0  \n",
      "30421  0.0  1.0  0.0  0.0  1.0  0.0   0.5  \n",
      "30422  1.0  0.0  0.0  1.0  0.0  0.0   2.0  \n",
      "\n",
      "[30423 rows x 23 columns]\n"
     ]
    }
   ],
   "source": [
    "\n",
    "viewer = pd.DataFrame(X_train)\n",
    "print(X_train)"
   ]
  },
  {
   "cell_type": "code",
   "execution_count": 82,
   "metadata": {},
   "outputs": [],
   "source": [
    "#"
   ]
  },
  {
   "cell_type": "code",
   "execution_count": 83,
   "metadata": {},
   "outputs": [
    {
     "name": "stdout",
     "output_type": "stream",
     "text": [
      "{'C': 1, 'coef0': 0, 'degree': 3, 'gamma': 'auto', 'kernel': 'rbf'}\n",
      "SVR(C=1, coef0=0, gamma='auto')\n"
     ]
    }
   ],
   "source": [
    "\n",
    "#gridsearch:\n",
    "params =  {'kernel' : ['rbf'],\n",
    "                    'C' : [1],\n",
    "                    'degree' : [3],\n",
    "                    'coef0' : [0, 0.01],\n",
    "                    'gamma' : ['auto']}\n",
    "\n",
    "modelsvr = SVR()\n",
    "grid = GridSearchCV(modelsvr, param_grid = params, cv = 5,\n",
    "                    scoring='neg_mean_squared_error')\n",
    "\n",
    "grid.fit(X_train, y_train_scaled)\n",
    "\n",
    "print(grid.best_params_)\n",
    "print(grid.best_estimator_)\n"
   ]
  },
  {
   "cell_type": "code",
   "execution_count": 84,
   "metadata": {},
   "outputs": [
    {
     "data": {
      "text/plain": [
       "SVR(C=1, coef0=0, gamma='auto')"
      ]
     },
     "execution_count": 84,
     "metadata": {},
     "output_type": "execute_result"
    }
   ],
   "source": [
    "model = SVR(**grid.best_params_)\n",
    "model.fit(X_train, y_train_scaled)"
   ]
  },
  {
   "cell_type": "code",
   "execution_count": 85,
   "metadata": {},
   "outputs": [
    {
     "name": "stdout",
     "output_type": "stream",
     "text": [
      "[ 0.62699099 -0.49658369 -0.64813614 ...  0.01762497  0.32823069\n",
      "  1.32809198]\n",
      "[[ 98186.97206038]\n",
      " [ 45254.01711393]\n",
      " [ 38114.19935128]\n",
      " ...\n",
      " [ 69479.00582058]\n",
      " [ 84112.01474455]\n",
      " [131216.68252361]]\n"
     ]
    }
   ],
   "source": [
    "\n",
    "y_pred = model.predict(X_test)\n",
    "print(y_pred)\n",
    "\n",
    "#inverse scale the y_pred values:\n",
    "y_pred = y_pred.reshape(-1,1)\n",
    "y_pred = scaler.inverse_transform(y_pred)\n",
    "print(y_pred)\n"
   ]
  },
  {
   "cell_type": "code",
   "execution_count": 86,
   "metadata": {},
   "outputs": [
    {
     "name": "stdout",
     "output_type": "stream",
     "text": [
      "0.6590310508450028\n",
      "0.3603760055506055\n",
      "19001.114896236482\n",
      "0.1737675302669472\n",
      "157945.906995364\n",
      "27010.284551287892\n"
     ]
    }
   ],
   "source": [
    "print(metrics.r2_score(y_test, y_pred))\n",
    "print(metrics.mean_absolute_percentage_error(y_test, y_pred))\n",
    "print(metrics.mean_absolute_error(y_test, y_pred))\n",
    "print(metrics.mean_gamma_deviance(y_test,y_pred))\n",
    "print(metrics.max_error(y_test, y_pred))\n",
    "print(np.sqrt(metrics.mean_squared_error(y_test, y_pred)))"
   ]
  },
  {
   "cell_type": "code",
   "execution_count": 87,
   "metadata": {},
   "outputs": [
    {
     "data": {
      "text/plain": [
       "GridSearchCV(cv=5, estimator=DecisionTreeRegressor(random_state=0),\n",
       "             param_grid={'max_depth': [None, 2, 4, 6, 8, 10, 12]},\n",
       "             scoring='neg_mean_squared_error')"
      ]
     },
     "execution_count": 87,
     "metadata": {},
     "output_type": "execute_result"
    }
   ],
   "source": [
    "#using the decision tree regressor:\n",
    "from sklearn.tree import DecisionTreeRegressor\n",
    "\n",
    "\n",
    "max_depth = [None, 2,4,6,8,10,12]\n",
    "parameters = {\"max_depth\": max_depth}\n",
    "regressor = DecisionTreeRegressor(random_state= 0, )\n",
    "gs = GridSearchCV(regressor, parameters, scoring = 'neg_mean_squared_error', cv =5)\n",
    "gs.fit(X_train, y_train)"
   ]
  },
  {
   "cell_type": "code",
   "execution_count": 88,
   "metadata": {},
   "outputs": [
    {
     "name": "stdout",
     "output_type": "stream",
     "text": [
      "[ 98877.          52747.63157895  23824.         ...  69045.86538462\n",
      "  89191.66666667 146159.375     ]\n"
     ]
    }
   ],
   "source": [
    "regressor = gs.best_estimator_\n",
    "\n",
    "y_pred2 = regressor.predict(X_test)\n",
    "print(y_pred2)"
   ]
  },
  {
   "cell_type": "code",
   "execution_count": 89,
   "metadata": {},
   "outputs": [
    {
     "name": "stdout",
     "output_type": "stream",
     "text": [
      "0.654695309431409\n",
      "0.3899914666874941\n",
      "19492.764939905675\n",
      "0.17424178313566832\n",
      "147455.56424581006\n",
      "27181.472672992506\n"
     ]
    }
   ],
   "source": [
    "print(metrics.r2_score(y_test, y_pred2))\n",
    "print(metrics.mean_absolute_percentage_error(y_test, y_pred2))\n",
    "print(metrics.mean_absolute_error(y_test, y_pred2))\n",
    "print(metrics.mean_gamma_deviance(y_test,y_pred2))\n",
    "print(metrics.max_error(y_test, y_pred2))\n",
    "print(np.sqrt(metrics.mean_squared_error(y_test, y_pred2)))"
   ]
  },
  {
   "cell_type": "code",
   "execution_count": 90,
   "metadata": {},
   "outputs": [
    {
     "data": {
      "text/html": [
       "<div>\n",
       "<style scoped>\n",
       "    .dataframe tbody tr th:only-of-type {\n",
       "        vertical-align: middle;\n",
       "    }\n",
       "\n",
       "    .dataframe tbody tr th {\n",
       "        vertical-align: top;\n",
       "    }\n",
       "\n",
       "    .dataframe thead th {\n",
       "        text-align: right;\n",
       "    }\n",
       "</style>\n",
       "<table border=\"1\" class=\"dataframe\">\n",
       "  <thead>\n",
       "    <tr style=\"text-align: right;\">\n",
       "      <th></th>\n",
       "      <th>Country</th>\n",
       "      <th>EdLevel</th>\n",
       "      <th>YearsCodePro</th>\n",
       "    </tr>\n",
       "  </thead>\n",
       "  <tbody>\n",
       "    <tr>\n",
       "      <th>0</th>\n",
       "      <td>United States of America</td>\n",
       "      <td>Post-grad</td>\n",
       "      <td>4</td>\n",
       "    </tr>\n",
       "  </tbody>\n",
       "</table>\n",
       "</div>"
      ],
      "text/plain": [
       "                    Country    EdLevel  YearsCodePro\n",
       "0  United States of America  Post-grad             4"
      ]
     },
     "execution_count": 90,
     "metadata": {},
     "output_type": "execute_result"
    }
   ],
   "source": [
    "#code for taking in values and predicting the salary:\n",
    "\n",
    "x = [['United States of America', 'Post-grad', 4]]\n",
    "x_data = pd.DataFrame(x)\n",
    "x_data.columns = ['Country', 'EdLevel', 'YearsCodePro']\n",
    "x_data"
   ]
  },
  {
   "cell_type": "code",
   "execution_count": 91,
   "metadata": {},
   "outputs": [],
   "source": [
    "tester = pd.DataFrame(column_trans.transform(x_data).toarray())"
   ]
  },
  {
   "cell_type": "code",
   "execution_count": 92,
   "metadata": {},
   "outputs": [
    {
     "name": "stdout",
     "output_type": "stream",
     "text": [
      "[[114164.86824251]]\n"
     ]
    }
   ],
   "source": [
    "y_result = model.predict(tester)\n",
    "y_result = scaler.inverse_transform(y_result.reshape(-1,1))\n",
    "print(y_result)"
   ]
  },
  {
   "cell_type": "code",
   "execution_count": 93,
   "metadata": {},
   "outputs": [],
   "source": [
    "data = {'model': model, 'column_encoder' : column_trans, 'scaler' : scaler}\n",
    "with open('saved_steps.pk1', 'wb') as file:\n",
    "    pickle.dump(data, file)"
   ]
  },
  {
   "cell_type": "code",
   "execution_count": 94,
   "metadata": {},
   "outputs": [],
   "source": [
    "#testing the persistence of the model:"
   ]
  },
  {
   "cell_type": "code",
   "execution_count": 95,
   "metadata": {},
   "outputs": [],
   "source": [
    "model_loaded = data['model']\n",
    "column_encoder2 = data['column_encoder']\n",
    "scaler_pickle = data['scaler']"
   ]
  },
  {
   "cell_type": "code",
   "execution_count": 96,
   "metadata": {},
   "outputs": [],
   "source": [
    "test_data = [['United States of America', 'Post-grad', 4]]\n",
    "cols = ['Country', 'EdLevel', 'YearsCodePro']\n",
    "test_data = pd.DataFrame(test_data, columns= cols)\n"
   ]
  },
  {
   "cell_type": "code",
   "execution_count": 97,
   "metadata": {},
   "outputs": [
    {
     "name": "stdout",
     "output_type": "stream",
     "text": [
      "[[114164.86824251]]\n"
     ]
    }
   ],
   "source": [
    "X_data = pd.DataFrame(column_encoder2.transform(test_data).toarray())\n",
    "y_new_result = model_loaded.predict(X_data)\n",
    "y_new_result = scaler_pickle.inverse_transform(y_new_result.reshape(-1,1))\n",
    "print(y_new_result)"
   ]
  },
  {
   "cell_type": "code",
   "execution_count": 98,
   "metadata": {},
   "outputs": [
    {
     "data": {
      "text/plain": [
       "'#measuring the models with the statsmodel api\\nimport statsmodels.api as sm\\n\\n\\nlogit_model = sm.Logit(y_train, X)'"
      ]
     },
     "execution_count": 98,
     "metadata": {},
     "output_type": "execute_result"
    }
   ],
   "source": [
    "'''#measuring the models with the statsmodel api\n",
    "import statsmodels.api as sm\n",
    "\n",
    "\n",
    "logit_model = sm.Logit(y_train, X)'''"
   ]
  }
 ],
 "metadata": {
  "kernelspec": {
   "display_name": "Python 3.10.4 ('ml': venv)",
   "language": "python",
   "name": "python3"
  },
  "language_info": {
   "codemirror_mode": {
    "name": "ipython",
    "version": 3
   },
   "file_extension": ".py",
   "mimetype": "text/x-python",
   "name": "python",
   "nbconvert_exporter": "python",
   "pygments_lexer": "ipython3",
   "version": "3.10.4"
  },
  "orig_nbformat": 4,
  "vscode": {
   "interpreter": {
    "hash": "cd4f7c0c5c899b127080c545835c037b928ff484a3b64436012bbbfbf7fe6aa2"
   }
  }
 },
 "nbformat": 4,
 "nbformat_minor": 2
}
